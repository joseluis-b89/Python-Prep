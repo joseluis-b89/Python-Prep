{
 "cells": [
  {
   "cell_type": "code",
   "execution_count": 11,
   "metadata": {},
   "outputs": [
    {
     "name": "stdout",
     "output_type": "stream",
     "text": [
      "5\n",
      "Carlos\n",
      "Perez\n",
      "<class 'float'>\n",
      "<class 'int'>\n",
      "<class 'str'>\n"
     ]
    },
    {
     "data": {
      "text/plain": [
       "True"
      ]
     },
     "execution_count": 11,
     "metadata": {},
     "output_type": "execute_result"
    }
   ],
   "source": [
    "x = 5 #entero\n",
    "\n",
    "numero = 9.3 #float\n",
    "\n",
    "apellido = \"Perez\"\n",
    "\n",
    "nombre = 'Carlos'\n",
    "\n",
    "print(x)\n",
    "\n",
    "print(nombre)\n",
    "print(apellido)\n",
    "\n",
    "print(type(numero))\n",
    "print(type(x))\n",
    "print(type(apellido))\n",
    "\n",
    "bool(x)"
   ]
  },
  {
   "cell_type": "code",
   "execution_count": 23,
   "metadata": {},
   "outputs": [
    {
     "data": {
      "text/plain": [
       "3"
      ]
     },
     "execution_count": 23,
     "metadata": {},
     "output_type": "execute_result"
    }
   ],
   "source": [
    "a = 8\n",
    "b = 3.5\n",
    "\n",
    "a + b\n",
    "\n",
    "a+10\n",
    "\n",
    "a - b\n",
    "\n",
    "c = 11\n",
    "\n",
    "b * c\n",
    "\n",
    "c ** a\n",
    "\n",
    "a ** 2\n",
    "\n",
    "b / 3.5\n",
    "\n",
    "b // 3.5\n",
    "\n",
    "b // 2.5\n",
    "\n",
    "dividendo = 80\n",
    "divisor = 11\n",
    "\n",
    "dividendo / divisor\n",
    "\n",
    "dividendo % divisor"
   ]
  },
  {
   "cell_type": "code",
   "execution_count": 9,
   "metadata": {},
   "outputs": [
    {
     "name": "stdout",
     "output_type": "stream",
     "text": [
      "<class 'float'>\n",
      "<class 'float'>\n",
      "<class 'str'>\n",
      "<class 'int'>\n"
     ]
    }
   ],
   "source": [
    "num = 3.5\n",
    "print(type(num))\n",
    "\n",
    "int(num)\n",
    "print(type(num))\n",
    "\n",
    "numero = \"4\"\n",
    "int(numero)\n",
    "\n",
    "frase = \"Hola\"\n",
    "\n",
    "print(type(numero))\n",
    "numero = int(numero)\n",
    "print(type(numero))"
   ]
  }
 ],
 "metadata": {
  "kernelspec": {
   "display_name": "Python 3",
   "language": "python",
   "name": "python3"
  },
  "language_info": {
   "codemirror_mode": {
    "name": "ipython",
    "version": 3
   },
   "file_extension": ".py",
   "mimetype": "text/x-python",
   "name": "python",
   "nbconvert_exporter": "python",
   "pygments_lexer": "ipython3",
   "version": "3.11.6"
  },
  "orig_nbformat": 4
 },
 "nbformat": 4,
 "nbformat_minor": 2
}
