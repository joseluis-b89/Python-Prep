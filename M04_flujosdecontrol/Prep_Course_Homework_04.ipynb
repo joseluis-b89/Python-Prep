{
 "cells": [
  {
   "attachments": {},
   "cell_type": "markdown",
   "metadata": {},
   "source": [
    "## Flujos de Control"
   ]
  },
  {
   "attachments": {},
   "cell_type": "markdown",
   "metadata": {},
   "source": [
    "1) Crear una variable que contenga un elemento del conjunto de números enteros y luego imprimir por pantalla si es mayor o menor a cero"
   ]
  },
  {
   "cell_type": "code",
   "execution_count": 1,
   "metadata": {},
   "outputs": [
    {
     "name": "stdout",
     "output_type": "stream",
     "text": [
      "El numero es mayor que 0\n"
     ]
    }
   ],
   "source": [
    "numero = 7\n",
    "if numero > 0:\n",
    "    print(\"El numero es mayor que 0\")\n",
    "elif numero < 0:\n",
    "    print(\"El numero es menor que 0\")\n",
    "else:\n",
    "    print(\"El numero es igual a 0\")"
   ]
  },
  {
   "attachments": {},
   "cell_type": "markdown",
   "metadata": {},
   "source": [
    "2) Crear dos variables y un condicional que informe si son del mismo tipo de dato"
   ]
  },
  {
   "cell_type": "code",
   "execution_count": 4,
   "metadata": {},
   "outputs": [
    {
     "name": "stdout",
     "output_type": "stream",
     "text": [
      "La variable a y c son de distinto tipo\n"
     ]
    }
   ],
   "source": [
    "a = 8\n",
    "b = -4\n",
    "c = \"texto\"\n",
    "\n",
    "if type(a) == type(c):\n",
    "    print(\"La variable a y c son del mismo tipo\")\n",
    "else:\n",
    "    print(\"La variable a y c son de distinto tipo\")\n"
   ]
  },
  {
   "attachments": {},
   "cell_type": "markdown",
   "metadata": {},
   "source": [
    "3) Para los valores enteros del 1 al 20, imprimir por pantalla si es par o impar"
   ]
  },
  {
   "cell_type": "code",
   "execution_count": 5,
   "metadata": {},
   "outputs": [
    {
     "name": "stdout",
     "output_type": "stream",
     "text": [
      "El numero  1  es impar\n",
      "El numero  2  es par\n",
      "El numero  3  es impar\n",
      "El numero  4  es par\n",
      "El numero  5  es impar\n",
      "El numero  6  es par\n",
      "El numero  7  es impar\n",
      "El numero  8  es par\n",
      "El numero  9  es impar\n",
      "El numero  10  es par\n",
      "El numero  11  es impar\n",
      "El numero  12  es par\n",
      "El numero  13  es impar\n",
      "El numero  14  es par\n",
      "El numero  15  es impar\n",
      "El numero  16  es par\n",
      "El numero  17  es impar\n",
      "El numero  18  es par\n",
      "El numero  19  es impar\n",
      "El numero  20  es par\n"
     ]
    }
   ],
   "source": [
    "for numero in range(1, 21):\n",
    "    if numero % 2 == 0:\n",
    "        print(\"El numero \", numero, \" es par\")\n",
    "    else:\n",
    "        print(\"El numero \", numero, \" es impar\")\n",
    "        "
   ]
  },
  {
   "attachments": {},
   "cell_type": "markdown",
   "metadata": {},
   "source": [
    "4) En un ciclo for mostrar para los valores entre 0 y 5 el resultado de elevarlo a la potencia igual a 3"
   ]
  },
  {
   "cell_type": "code",
   "execution_count": 6,
   "metadata": {},
   "outputs": [
    {
     "name": "stdout",
     "output_type": "stream",
     "text": [
      "El 0 elevado a la potencia 3 es igual a: 0\n",
      "El 1 elevado a la potencia 3 es igual a: 1\n",
      "El 2 elevado a la potencia 3 es igual a: 8\n",
      "El 3 elevado a la potencia 3 es igual a: 27\n",
      "El 4 elevado a la potencia 3 es igual a: 64\n",
      "El 5 elevado a la potencia 3 es igual a: 125\n"
     ]
    }
   ],
   "source": [
    "for numero in range(0, 6):\n",
    "    print(\"El\", numero, \"elevado a la potencia 3 es igual a:\", numero ** 3)\n"
   ]
  },
  {
   "attachments": {},
   "cell_type": "markdown",
   "metadata": {},
   "source": [
    "5) Crear una variable que contenga un número entero y realizar un ciclo for la misma cantidad de ciclos"
   ]
  },
  {
   "cell_type": "code",
   "execution_count": 21,
   "metadata": {},
   "outputs": [
    {
     "name": "stdout",
     "output_type": "stream",
     "text": [
      "Ciclo numero: 0 Numero igual a: 23\n",
      "Ciclo numero: 1 Numero igual a: 22\n",
      "Ciclo numero: 2 Numero igual a: 21\n",
      "Ciclo numero: 3 Numero igual a: 20\n",
      "Ciclo numero: 4 Numero igual a: 19\n",
      "Ciclo numero: 5 Numero igual a: 18\n",
      "Ciclo numero: 6 Numero igual a: 17\n",
      "Ciclo numero: 7 Numero igual a: 16\n",
      "Ciclo numero: 8 Numero igual a: 15\n",
      "Ciclo numero: 9 Numero igual a: 14\n",
      "Ciclo numero: 10 Numero igual a: 13\n",
      "Ciclo numero: 11 Numero igual a: 12\n",
      "Ciclo numero: 12 Numero igual a: 11\n",
      "Ciclo numero: 13 Numero igual a: 10\n",
      "Ciclo numero: 14 Numero igual a: 9\n",
      "Ciclo numero: 15 Numero igual a: 8\n",
      "Ciclo numero: 16 Numero igual a: 7\n",
      "Ciclo numero: 17 Numero igual a: 6\n",
      "Ciclo numero: 18 Numero igual a: 5\n",
      "Ciclo numero: 19 Numero igual a: 4\n",
      "Ciclo numero: 20 Numero igual a: 3\n",
      "Ciclo numero: 21 Numero igual a: 2\n",
      "Ciclo numero: 22 Numero igual a: 1\n"
     ]
    }
   ],
   "source": [
    "i = 0\n",
    "numerin = 23\n",
    "while numerin > 0:\n",
    "    print(\"Ciclo numero:\", i, \"Numero igual a:\", numerin)\n",
    "    numerin -= 1\n",
    "    i += 1\n"
   ]
  },
  {
   "attachments": {},
   "cell_type": "markdown",
   "metadata": {},
   "source": [
    "6) Utilizar un ciclo while para realizar el factorial de un número guardado en una variable, sólo si la variable contiene un número entero mayor a 0"
   ]
  },
  {
   "cell_type": "code",
   "execution_count": 25,
   "metadata": {},
   "outputs": [
    {
     "name": "stdout",
     "output_type": "stream",
     "text": [
      "11\n",
      "110\n",
      "990\n",
      "7920\n",
      "55440\n",
      "332640\n",
      "1663200\n",
      "6652800\n",
      "19958400\n",
      "39916800\n",
      "39916800\n"
     ]
    }
   ],
   "source": [
    "number = 11\n",
    "resultado = 1\n",
    "while number > 0:\n",
    "    resultado *= number\n",
    "    number -= 1\n",
    "    print(resultado)\n"
   ]
  },
  {
   "attachments": {},
   "cell_type": "markdown",
   "metadata": {},
   "source": [
    "7) Crear un ciclo for dentro de un ciclo while"
   ]
  },
  {
   "cell_type": "code",
   "execution_count": null,
   "metadata": {},
   "outputs": [],
   "source": [
    "i = 7\n",
    "while i >= 0:\n",
    "    print(\"Ciclo while, valor de i es igual a :\", i)\n",
    "    for value in range (0, 1):\n",
    "        if value >= 0:\n",
    "            print(\"Ciclo for en donde se multiplica i * i, valor igual a:\", i*i)\n",
    "        else:\n",
    "            print(\"No mas ciclos\")\n",
    "    i -= 1\n",
    "    if i >= 0:\n",
    "        print(\"Todavia faltan ciclos\")\n",
    "    else:\n",
    "        print(\"Este fue el ultimo ciclo\")\n",
    "    \n",
    "\n"
   ]
  },
  {
   "cell_type": "markdown",
   "metadata": {},
   "source": [
    "8) Crear un ciclo while dentro de un ciclo for"
   ]
  },
  {
   "cell_type": "code",
   "execution_count": 11,
   "metadata": {},
   "outputs": [
    {
     "name": "stdout",
     "output_type": "stream",
     "text": [
      "0\n",
      "5\n",
      "10\n",
      "15\n",
      "20\n",
      "Valor de x igual a: 5\n",
      "Termino el ciclo: 5 - En el cual se multiplico el valor de x, por cada uno de los numeros del array\n",
      "0\n",
      "4\n",
      "8\n",
      "12\n",
      "16\n",
      "Valor de x igual a: 4\n",
      "Termino el ciclo: 4 - En el cual se multiplico el valor de x, por cada uno de los numeros del array\n",
      "0\n",
      "3\n",
      "6\n",
      "9\n",
      "12\n",
      "Valor de x igual a: 3\n",
      "Termino el ciclo: 3 - En el cual se multiplico el valor de x, por cada uno de los numeros del array\n",
      "0\n",
      "2\n",
      "4\n",
      "6\n",
      "8\n",
      "Valor de x igual a: 2\n",
      "Termino el ciclo: 2 - En el cual se multiplico el valor de x, por cada uno de los numeros del array\n",
      "0\n",
      "1\n",
      "2\n",
      "3\n",
      "4\n",
      "Valor de x igual a: 1\n",
      "Termino el ciclo: 1 - En el cual se multiplico el valor de x, por cada uno de los numeros del array\n",
      "0\n",
      "0\n",
      "0\n",
      "0\n",
      "0\n",
      "Valor de x igual a: 0\n",
      "Termino el ciclo: 0 - En el cual se multiplico el valor de x, por cada uno de los numeros del array\n"
     ]
    }
   ],
   "source": [
    "x = 5\n",
    "numeros = [0, 1, 2 ,3 ,4]\n",
    "while x > -1:\n",
    "    for numero in numeros:\n",
    "            print(numero * x)\n",
    "    print(\"Valor de x igual a:\", x)\n",
    "    print(\"Termino el ciclo:\", x, \"- En el cual se multiplico el valor de x, por cada uno de los numeros del array\")\n",
    "    x -= 1\n",
    "    "
   ]
  },
  {
   "attachments": {},
   "cell_type": "markdown",
   "metadata": {},
   "source": [
    "9) Imprimir los números primos existentes entre 0 y 30"
   ]
  },
  {
   "cell_type": "code",
   "execution_count": 26,
   "metadata": {},
   "outputs": [
    {
     "name": "stdout",
     "output_type": "stream",
     "text": [
      "0\n",
      "1\n",
      "2\n",
      "3\n",
      "5\n",
      "7\n",
      "11\n",
      "13\n",
      "17\n",
      "19\n",
      "23\n",
      "29\n"
     ]
    }
   ],
   "source": [
    "rango_superior = 30\n",
    "z = 0\n",
    "esPrimo = True\n",
    "\n",
    "while (z < rango_superior):\n",
    "    for div in range(2, z):\n",
    "        if (z % div == 0):\n",
    "            esPrimo = False\n",
    "    if(esPrimo):\n",
    "        print(z)\n",
    "    else:\n",
    "        esPrimo = True\n",
    "    z += 1"
   ]
  },
  {
   "attachments": {},
   "cell_type": "markdown",
   "metadata": {},
   "source": [
    "10) ¿Se puede mejorar el proceso del punto 9? Utilizar las sentencias break y/ó continue para tal fin"
   ]
  },
  {
   "cell_type": "code",
   "execution_count": null,
   "metadata": {},
   "outputs": [],
   "source": [
    "n = 0\n",
    "tope_rango = 30\n",
    "primo = True\n",
    "while (n < tope_rango):\n",
    "    for div in range(2, n):\n",
    "        if (n % div == 0):\n",
    "            primo = False\n",
    "            break\n",
    "    if (primo):\n",
    "        print(n)\n",
    "    else:\n",
    "        primo = True\n",
    "    n += 1"
   ]
  },
  {
   "attachments": {},
   "cell_type": "markdown",
   "metadata": {},
   "source": [
    "11) En los puntos 9 y 10, se diseño un código que encuentra números primos y además se lo optimizó. ¿Es posible saber en qué medida se optimizó?"
   ]
  },
  {
   "cell_type": "code",
   "execution_count": null,
   "metadata": {},
   "outputs": [],
   "source": [
    "# Se optimizo logrando que la primera vez que el numero analizado es dividido por una serie de numeros\n",
    "# y el resultado del modulo de algunas de estas divisiones en 0, ya se determina que el numero no es primo,\n",
    "# y por lo tanto no es necesario seguir evaluando este numero con los otros divisores sucesivos,\n",
    "# por lo tanto se rompe el ciclo y se prosigue con el siguiente numero"
   ]
  },
  {
   "attachments": {},
   "cell_type": "markdown",
   "metadata": {},
   "source": [
    "12) Aplicando continue, armar un ciclo while que solo imprima los valores divisibles por 12, dentro del rango de números de 100 a 300"
   ]
  },
  {
   "cell_type": "code",
   "execution_count": 39,
   "metadata": {},
   "outputs": [
    {
     "name": "stdout",
     "output_type": "stream",
     "text": [
      "108 es un numero divisible por 12\n",
      "120 es un numero divisible por 12\n",
      "132 es un numero divisible por 12\n",
      "144 es un numero divisible por 12\n",
      "156 es un numero divisible por 12\n",
      "168 es un numero divisible por 12\n",
      "180 es un numero divisible por 12\n",
      "192 es un numero divisible por 12\n",
      "204 es un numero divisible por 12\n",
      "216 es un numero divisible por 12\n",
      "228 es un numero divisible por 12\n",
      "240 es un numero divisible por 12\n",
      "252 es un numero divisible por 12\n",
      "264 es un numero divisible por 12\n",
      "276 es un numero divisible por 12\n",
      "288 es un numero divisible por 12\n",
      "300 es un numero divisible por 12\n"
     ]
    }
   ],
   "source": [
    "w = 99\n",
    "while (w <= 300):\n",
    "    w += 1\n",
    "    if(w % 12 != 0):\n",
    "        continue\n",
    "    else:\n",
    "        print(w, \"es un numero divisible por 12\")"
   ]
  },
  {
   "attachments": {},
   "cell_type": "markdown",
   "metadata": {},
   "source": [
    "13) Utilizar la función **input()** que permite hacer ingresos por teclado, para encontrar números primos y dar la opción al usario de buscar el siguiente"
   ]
  },
  {
   "cell_type": "code",
   "execution_count": 2,
   "metadata": {},
   "outputs": [
    {
     "name": "stdout",
     "output_type": "stream",
     "text": [
      "23\n",
      "Desea encontrar el siguiente numero primo del input ingresado?\n",
      "No se buscan mas numeros primos\n"
     ]
    }
   ],
   "source": [
    "n = int(input())\n",
    "sigue = True\n",
    "primo = True\n",
    "while (sigue == True):\n",
    "    for div in range(2, n):\n",
    "        if (n % div == 0):\n",
    "            primo = False\n",
    "            break\n",
    "    if (primo):\n",
    "        print(n)\n",
    "        print(\"Desea encontrar el siguiente numero primo del input ingresado?\")\n",
    "        sigue = bool(input())\n",
    "        if (sigue == False):\n",
    "            print(\"No se buscan mas numeros primos\")\n",
    "            break\n",
    "    else:\n",
    "        primo = True\n",
    "    n += 1"
   ]
  },
  {
   "attachments": {},
   "cell_type": "markdown",
   "metadata": {},
   "source": [
    "14) Crear un ciclo while que encuentre dentro del rango de 100 a 300 el primer número divisible por 3 y además múltiplo de 6"
   ]
  },
  {
   "cell_type": "code",
   "execution_count": 7,
   "metadata": {},
   "outputs": [
    {
     "name": "stdout",
     "output_type": "stream",
     "text": [
      "102 es divisible por 3 y es multiplo de 6\n"
     ]
    }
   ],
   "source": [
    "q = 99\n",
    "while (q <= 300):\n",
    "    q += 1\n",
    "    if (q % 3) == 0 and (q % 6) == 0:\n",
    "        print (q, \"es divisible por 3 y es multiplo de 6\")\n",
    "        break\n",
    "\n",
    "    \n"
   ]
  }
 ],
 "metadata": {
  "interpreter": {
   "hash": "c85384e4cb51c8b72350f3a8712cc8351fdc3955e32a27f9b60c6242ab125f01"
  },
  "kernelspec": {
   "display_name": "Python 3 (ipykernel)",
   "language": "python",
   "name": "python3"
  },
  "language_info": {
   "codemirror_mode": {
    "name": "ipython",
    "version": 3
   },
   "file_extension": ".py",
   "mimetype": "text/x-python",
   "name": "python",
   "nbconvert_exporter": "python",
   "pygments_lexer": "ipython3",
   "version": "3.11.6"
  }
 },
 "nbformat": 4,
 "nbformat_minor": 4
}
