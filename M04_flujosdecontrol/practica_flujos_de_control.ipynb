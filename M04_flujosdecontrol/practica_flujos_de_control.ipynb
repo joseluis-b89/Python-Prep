{
 "cells": [
  {
   "cell_type": "code",
   "execution_count": 1,
   "metadata": {},
   "outputs": [
    {
     "name": "stdout",
     "output_type": "stream",
     "text": [
      "5\n",
      "7\n"
     ]
    }
   ],
   "source": [
    "a, b = 5, 7\n",
    "\n",
    "print(a)\n",
    "print(b)\n",
    "\n"
   ]
  },
  {
   "cell_type": "code",
   "execution_count": 2,
   "metadata": {},
   "outputs": [
    {
     "name": "stdout",
     "output_type": "stream",
     "text": [
      "a es menor que b\n"
     ]
    }
   ],
   "source": [
    "if a < b:\n",
    "    print(\"a es menor que b\")\n",
    "elif a > b:\n",
    "    print(\"b es mayor que a\")\n",
    "else:\n",
    "    print(\"a es igual a b\")\n",
    "    "
   ]
  },
  {
   "cell_type": "code",
   "execution_count": 5,
   "metadata": {},
   "outputs": [
    {
     "name": "stdout",
     "output_type": "stream",
     "text": [
      "El numero 10 es positivo\n"
     ]
    }
   ],
   "source": [
    "x = 10\n",
    "if x > 0:\n",
    "    print(\"El numero\",x, \"es positivo\")"
   ]
  },
  {
   "cell_type": "code",
   "execution_count": 7,
   "metadata": {},
   "outputs": [
    {
     "name": "stdout",
     "output_type": "stream",
     "text": [
      "num es igual a 10\n"
     ]
    }
   ],
   "source": [
    "num = 10\n",
    "if num > 10:\n",
    "    print(\"num es mayor a 10\")\n",
    "elif num < 10:\n",
    "    print(\"num es menor a 10\")\n",
    "else:\n",
    "    print(\"num es igual a 10\")"
   ]
  },
  {
   "cell_type": "code",
   "execution_count": 10,
   "metadata": {},
   "outputs": [
    {
     "name": "stdout",
     "output_type": "stream",
     "text": [
      "1\n",
      "3\n"
     ]
    }
   ],
   "source": [
    "suma = 0\n",
    "suma += 1\n",
    "print(suma)\n",
    "suma += 2\n",
    "print(suma)\n"
   ]
  },
  {
   "cell_type": "code",
   "execution_count": 11,
   "metadata": {},
   "outputs": [
    {
     "name": "stdout",
     "output_type": "stream",
     "text": [
      "2\n",
      "3\n",
      "4\n",
      "5\n",
      "6\n"
     ]
    }
   ],
   "source": [
    "array_numeros = [1, 2, 3, 4, 5]\n",
    "for num in array_numeros:\n",
    "    sumin = num + 1\n",
    "    print(sumin)\n",
    "    "
   ]
  },
  {
   "cell_type": "code",
   "execution_count": 14,
   "metadata": {},
   "outputs": [
    {
     "name": "stdout",
     "output_type": "stream",
     "text": [
      "Variable de iteracion:  1 Resultado =  2\n",
      "Variable de iteracion:  2 Resultado =  3\n",
      "Variable de iteracion:  3 Resultado =  4\n",
      "Variable de iteracion:  4 Resultado =  5\n",
      "Variable de iteracion:  5 Resultado =  6\n"
     ]
    }
   ],
   "source": [
    "for i in range (1, 6):\n",
    "    suma = i + 1\n",
    "    print(\"Variable de iteracion: \", i, \"Resultado = \", suma)"
   ]
  },
  {
   "cell_type": "code",
   "execution_count": 16,
   "metadata": {},
   "outputs": [
    {
     "name": "stdout",
     "output_type": "stream",
     "text": [
      "numerito:  1\n",
      "numerito:  2\n",
      "numerito:  3\n",
      "numerito:  4\n",
      "numerito:  5\n"
     ]
    }
   ],
   "source": [
    "numerito = 1\n",
    "while numerito < 6:\n",
    "    print(\"numerito: \", numerito)\n",
    "    numerito += 1"
   ]
  },
  {
   "cell_type": "code",
   "execution_count": 17,
   "metadata": {},
   "outputs": [
    {
     "name": "stdout",
     "output_type": "stream",
     "text": [
      "0\n"
     ]
    }
   ],
   "source": [
    "for i in range(5):\n",
    "    print(i)\n",
    "    break"
   ]
  },
  {
   "cell_type": "code",
   "execution_count": 18,
   "metadata": {},
   "outputs": [
    {
     "name": "stdout",
     "output_type": "stream",
     "text": [
      "P\n",
      "y\n",
      "t\n",
      "Se encontro la h\n"
     ]
    }
   ],
   "source": [
    "cadena = \"Python\"\n",
    "for letra in cadena:\n",
    "    if letra == \"h\":\n",
    "        print(\"Se encontro la h\")\n",
    "        break\n",
    "    print(letra)"
   ]
  },
  {
   "cell_type": "code",
   "execution_count": null,
   "metadata": {},
   "outputs": [],
   "source": [
    "x = 5\n",
    "while True:\n",
    "    x -= 1\n",
    "    print(x)\n",
    "    if x==0:\n",
    "        break\n",
    "print(\"Fin del bucle\")  \n",
    "        \n"
   ]
  },
  {
   "cell_type": "code",
   "execution_count": 19,
   "metadata": {},
   "outputs": [
    {
     "name": "stdout",
     "output_type": "stream",
     "text": [
      "y\n",
      "t\n",
      "h\n",
      "o\n",
      "n\n"
     ]
    }
   ],
   "source": [
    "cadena = \"Python\"\n",
    "for letra in cadena:\n",
    "    if letra == \"P\":\n",
    "        continue\n",
    "    print(letra)"
   ]
  },
  {
   "cell_type": "code",
   "execution_count": 20,
   "metadata": {},
   "outputs": [],
   "source": [
    "numerin = 23\n",
    "while numerin < 0:\n",
    "    print(\"Numero igual a:\", numerin)\n",
    "    numerin = numerin - 1"
   ]
  }
 ],
 "metadata": {
  "kernelspec": {
   "display_name": "Python 3",
   "language": "python",
   "name": "python3"
  },
  "language_info": {
   "codemirror_mode": {
    "name": "ipython",
    "version": 3
   },
   "file_extension": ".py",
   "mimetype": "text/x-python",
   "name": "python",
   "nbconvert_exporter": "python",
   "pygments_lexer": "ipython3",
   "version": "3.11.6"
  }
 },
 "nbformat": 4,
 "nbformat_minor": 2
}
